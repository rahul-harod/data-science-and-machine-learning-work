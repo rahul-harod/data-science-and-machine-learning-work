{
 "cells": [
  {
   "cell_type": "code",
   "execution_count": 1,
   "metadata": {},
   "outputs": [],
   "source": [
    "import numpy as np\n",
    "from sklearn import preprocessing\n"
   ]
  },
  {
   "cell_type": "code",
   "execution_count": 6,
   "metadata": {},
   "outputs": [
    {
     "data": {
      "text/plain": [
       "array([[8.7300e+02, 2.1600e+03, 2.1600e+03, ..., 0.0000e+00, 0.0000e+00,\n",
       "        1.0000e+00],\n",
       "       [6.1100e+02, 1.4040e+03, 2.8080e+03, ..., 0.0000e+00, 1.8200e+02,\n",
       "        1.0000e+00],\n",
       "       [7.0500e+02, 3.2400e+02, 3.2400e+02, ..., 1.0000e+00, 3.3400e+02,\n",
       "        1.0000e+00],\n",
       "       ...,\n",
       "       [2.8671e+04, 1.0800e+03, 1.0800e+03, ..., 0.0000e+00, 2.9000e+01,\n",
       "        0.0000e+00],\n",
       "       [3.1134e+04, 2.1600e+03, 2.1600e+03, ..., 0.0000e+00, 0.0000e+00,\n",
       "        0.0000e+00],\n",
       "       [3.2832e+04, 1.6200e+03, 1.6200e+03, ..., 0.0000e+00, 9.0000e+01,\n",
       "        0.0000e+00]])"
      ]
     },
     "execution_count": 6,
     "metadata": {},
     "output_type": "execute_result"
    }
   ],
   "source": [
    "raw_data=np.loadtxt('F:\\\\Audiobooks_data.csv',delimiter=',')\n",
    "raw_data"
   ]
  },
  {
   "cell_type": "code",
   "execution_count": 18,
   "metadata": {},
   "outputs": [
    {
     "data": {
      "text/plain": [
       "(14084, 10)"
      ]
     },
     "execution_count": 18,
     "metadata": {},
     "output_type": "execute_result"
    }
   ],
   "source": [
    "unscaled_inputs_all=raw_data[:,1:-1]                       # to  eliminate 1st and last column\n",
    "unscaled_inputs_all.shape"
   ]
  },
  {
   "cell_type": "code",
   "execution_count": 11,
   "metadata": {},
   "outputs": [
    {
     "data": {
      "text/plain": [
       "array([1., 1., 1., ..., 0., 0., 0.])"
      ]
     },
     "execution_count": 11,
     "metadata": {},
     "output_type": "execute_result"
    }
   ],
   "source": [
    "targets_all=raw_data[:,-1]\n",
    "targets_all"
   ]
  },
  {
   "cell_type": "markdown",
   "metadata": {},
   "source": [
    "# balance datasets"
   ]
  },
  {
   "cell_type": "code",
   "execution_count": 19,
   "metadata": {},
   "outputs": [
    {
     "data": {
      "text/plain": [
       "(4474, 10)"
      ]
     },
     "execution_count": 19,
     "metadata": {},
     "output_type": "execute_result"
    }
   ],
   "source": [
    "num_one_target=int(np.sum(targets_all))\n",
    "zero_target_counter=0\n",
    "indices_to_remove=[]\n",
    "for i in range(targets_all.shape[0]):\n",
    "    if targets_all[i]==0:\n",
    "        zero_target_counter+=1\n",
    "        if zero_target_counter>num_one_target:\n",
    "            indices_to_remove.append(i)\n",
    "            \n",
    "unscaled_balanced_input=np.delete(unscaled_inputs_all,indices_to_remove,axis=0)\n",
    "targets_balanced=np.delete(targets_all,indices_to_remove,axis=0)\n",
    "unscaled_balanced_input.shape"
   ]
  },
  {
   "cell_type": "markdown",
   "metadata": {},
   "source": [
    "# standarized_inputs"
   ]
  },
  {
   "cell_type": "code",
   "execution_count": 21,
   "metadata": {},
   "outputs": [
    {
     "data": {
      "text/plain": [
       "array([[ 1.18956512,  0.36398846,  0.67728889, ..., -0.8635056 ,\n",
       "        -0.20536617, -0.77240946],\n",
       "       [-0.33022754,  1.10843845, -0.08841391, ..., -0.8635056 ,\n",
       "        -0.20536617,  1.16499791],\n",
       "       [-2.50135991, -1.74528653,  0.67728889, ..., -0.8635056 ,\n",
       "         2.23179102,  2.78305242],\n",
       "       ...,\n",
       "       [ 1.18956512,  0.36398846,  0.67728889, ..., -0.20129479,\n",
       "        -0.20536617, -0.62337812],\n",
       "       [ 1.18956512,  0.36398846,  0.27347444, ..., -0.20129479,\n",
       "        -0.20536617,  0.21758442],\n",
       "       [ 1.18956512,  0.36398846,  0.20727535, ..., -0.20129479,\n",
       "        -0.20536617, -0.51692717]])"
      ]
     },
     "execution_count": 21,
     "metadata": {},
     "output_type": "execute_result"
    }
   ],
   "source": [
    "scaled_inputs=preprocessing.scale(unscaled_balanced_input)\n",
    "scaled_inputs"
   ]
  },
  {
   "cell_type": "markdown",
   "metadata": {},
   "source": [
    "# shuffle the data"
   ]
  },
  {
   "cell_type": "code",
   "execution_count": 23,
   "metadata": {},
   "outputs": [],
   "source": [
    "shuffled_indices=np.arange(scaled_inputs.shape[0])\n",
    "np.random.shuffle(shuffled_indices)\n",
    "\n",
    "shuffled_inputs=scaled_inputs[shuffled_indices]\n",
    "shuffled_targets=targets_balanced[shuffled_indices]"
   ]
  },
  {
   "cell_type": "markdown",
   "metadata": {},
   "source": [
    "# split_dataseṭ into_train_and_split"
   ]
  },
  {
   "cell_type": "code",
   "execution_count": 30,
   "metadata": {},
   "outputs": [],
   "source": [
    "sample_size=int(shuffled_inputs.shape[0])\n",
    "train_size=int(0.8*sample_size)\n",
    "validation_size=int(0.1*sample_size)\n",
    "test_size=sample_size-train_size-validation_size\n",
    "\n",
    "train_inputs=shuffled_inputs[:train_size]\n",
    "train_target=shuffled_targets[:train_size]\n",
    "\n",
    "validation_inputs=shuffled_inputs[train_size:train_size+validation_size]\n",
    "validation_targets=shuffled_targets[train_size:train_size+validation_size]\n",
    "\n",
    "test_inputs=shuffled_inputs[-test_size:]\n",
    "test_targets=shuffled_targets[-test_size:]\n",
    "\n"
   ]
  },
  {
   "cell_type": "code",
   "execution_count": 35,
   "metadata": {},
   "outputs": [
    {
     "name": "stdout",
     "output_type": "stream",
     "text": [
      "3579 0.5051690416317407\n",
      "447 0.4720357941834452\n",
      "448 0.48660714285714285\n"
     ]
    }
   ],
   "source": [
    "# to check the data balance\n",
    "\n",
    "print(train_size, np.sum(train_target)/train_size)\n",
    "print(validation_size, np.sum(validation_targets)/validation_size)\n",
    "print(test_size,np.sum(test_targets)/test_size)"
   ]
  },
  {
   "cell_type": "markdown",
   "metadata": {},
   "source": [
    "this_shows_that data is equally distributed in all samples"
   ]
  },
  {
   "cell_type": "markdown",
   "metadata": {},
   "source": [
    "# save_data into train_test_validation"
   ]
  },
  {
   "cell_type": "code",
   "execution_count": 36,
   "metadata": {},
   "outputs": [],
   "source": [
    "np.savez('Audio data train',inputs=train_inputs,targets=train_target)\n",
    "np.savez('Audio data validation',inputs=validation_inputs,targets=validation_targets)\n",
    "np.savez('Audio data test',inputs=test_inputs,targets=test_targets)"
   ]
  },
  {
   "cell_type": "code",
   "execution_count": 4,
   "metadata": {},
   "outputs": [],
   "source": [
    "import tensorflow as tf\n",
    "import numpy as np"
   ]
  },
  {
   "cell_type": "code",
   "execution_count": 5,
   "metadata": {},
   "outputs": [],
   "source": [
    "npz=np.load('Audio data train.npz')\n",
    "train_inputs=npz['inputs'].astype(np.float)\n",
    "train_target=npz['targets'].astype(np.int)\n",
    "\n",
    "npz=np.load('Audio data validation.npz')\n",
    "validation_inputs=npz['inputs'].astype(np.float)\n",
    "validation_target=npz['targets'].astype(np.int)\n",
    "\n",
    "npz=np.load('Audio data test.npz')\n",
    "test_inputs=npz['inputs'].astype(np.float)\n",
    "test_target=npz['targets'].astype(np.int)\n",
    "\n"
   ]
  },
  {
   "cell_type": "markdown",
   "metadata": {},
   "source": [
    "model building"
   ]
  },
  {
   "cell_type": "code",
   "execution_count": 14,
   "metadata": {},
   "outputs": [
    {
     "name": "stdout",
     "output_type": "stream",
     "text": [
      "Train on 3579 samples, validate on 447 samples\n",
      "Epoch 1/100\n",
      "3579/3579 - 2s - loss: 3.0942 - accuracy: 0.4602 - val_loss: 2.2040 - val_accuracy: 0.6040\n",
      "Epoch 2/100\n",
      "3579/3579 - 0s - loss: 1.2477 - accuracy: 0.6675 - val_loss: 0.6412 - val_accuracy: 0.8255\n",
      "Epoch 3/100\n",
      "3579/3579 - 0s - loss: 0.4570 - accuracy: 0.8664 - val_loss: 0.4173 - val_accuracy: 0.8523\n",
      "Epoch 4/100\n",
      "3579/3579 - 0s - loss: 0.3584 - accuracy: 0.8782 - val_loss: 0.3803 - val_accuracy: 0.8568\n",
      "Epoch 5/100\n",
      "3579/3579 - 0s - loss: 0.3314 - accuracy: 0.8832 - val_loss: 0.3621 - val_accuracy: 0.8613\n",
      "Epoch 6/100\n",
      "3579/3579 - 0s - loss: 0.3174 - accuracy: 0.8885 - val_loss: 0.3522 - val_accuracy: 0.8658\n",
      "Epoch 7/100\n",
      "3579/3579 - 0s - loss: 0.3065 - accuracy: 0.8863 - val_loss: 0.3453 - val_accuracy: 0.8680\n",
      "Epoch 8/100\n",
      "3579/3579 - 0s - loss: 0.2966 - accuracy: 0.8916 - val_loss: 0.3186 - val_accuracy: 0.8792\n",
      "Epoch 9/100\n",
      "3579/3579 - 0s - loss: 0.2880 - accuracy: 0.8944 - val_loss: 0.3087 - val_accuracy: 0.8859\n",
      "Epoch 10/100\n",
      "3579/3579 - 0s - loss: 0.2807 - accuracy: 0.8986 - val_loss: 0.3091 - val_accuracy: 0.8814\n",
      "Epoch 11/100\n",
      "3579/3579 - 0s - loss: 0.2740 - accuracy: 0.8994 - val_loss: 0.3016 - val_accuracy: 0.8837\n",
      "Epoch 12/100\n",
      "3579/3579 - 0s - loss: 0.2698 - accuracy: 0.8989 - val_loss: 0.3011 - val_accuracy: 0.8814\n",
      "Epoch 13/100\n",
      "3579/3579 - 0s - loss: 0.2653 - accuracy: 0.9033 - val_loss: 0.3078 - val_accuracy: 0.8747\n",
      "Epoch 14/100\n",
      "3579/3579 - 0s - loss: 0.2613 - accuracy: 0.9050 - val_loss: 0.3008 - val_accuracy: 0.8814\n",
      "Epoch 15/100\n",
      "3579/3579 - 0s - loss: 0.2570 - accuracy: 0.9042 - val_loss: 0.2826 - val_accuracy: 0.8881\n",
      "Epoch 16/100\n",
      "3579/3579 - 0s - loss: 0.2535 - accuracy: 0.9039 - val_loss: 0.2842 - val_accuracy: 0.8926\n",
      "Epoch 17/100\n",
      "3579/3579 - 0s - loss: 0.2506 - accuracy: 0.9042 - val_loss: 0.2809 - val_accuracy: 0.8859\n",
      "Epoch 18/100\n",
      "3579/3579 - 0s - loss: 0.2492 - accuracy: 0.9050 - val_loss: 0.2754 - val_accuracy: 0.8904\n",
      "Epoch 19/100\n",
      "3579/3579 - 0s - loss: 0.2477 - accuracy: 0.9075 - val_loss: 0.2988 - val_accuracy: 0.8881\n",
      "Epoch 20/100\n",
      "3579/3579 - 0s - loss: 0.2435 - accuracy: 0.9070 - val_loss: 0.2788 - val_accuracy: 0.8904\n",
      "Epoch 21/100\n",
      "3579/3579 - 0s - loss: 0.2432 - accuracy: 0.9072 - val_loss: 0.2740 - val_accuracy: 0.8859\n",
      "Epoch 22/100\n",
      "3579/3579 - 0s - loss: 0.2435 - accuracy: 0.9084 - val_loss: 0.2884 - val_accuracy: 0.8881\n",
      "Epoch 23/100\n",
      "3579/3579 - 0s - loss: 0.2406 - accuracy: 0.9092 - val_loss: 0.2858 - val_accuracy: 0.8881\n",
      "Epoch 24/100\n",
      "3579/3579 - 0s - loss: 0.2372 - accuracy: 0.9098 - val_loss: 0.2776 - val_accuracy: 0.8881\n",
      "Epoch 25/100\n",
      "3579/3579 - 0s - loss: 0.2379 - accuracy: 0.9098 - val_loss: 0.2819 - val_accuracy: 0.8881\n",
      "Epoch 26/100\n",
      "3579/3579 - 0s - loss: 0.2346 - accuracy: 0.9117 - val_loss: 0.2782 - val_accuracy: 0.8881\n",
      "Epoch 27/100\n",
      "3579/3579 - 0s - loss: 0.2345 - accuracy: 0.9106 - val_loss: 0.2797 - val_accuracy: 0.8881\n",
      "Epoch 28/100\n",
      "3579/3579 - 0s - loss: 0.2359 - accuracy: 0.9123 - val_loss: 0.2776 - val_accuracy: 0.8881\n",
      "Epoch 29/100\n",
      "3579/3579 - 0s - loss: 0.2357 - accuracy: 0.9117 - val_loss: 0.2759 - val_accuracy: 0.8881\n",
      "Epoch 30/100\n",
      "3579/3579 - 0s - loss: 0.2322 - accuracy: 0.9125 - val_loss: 0.2629 - val_accuracy: 0.8993\n",
      "Epoch 31/100\n",
      "3579/3579 - 0s - loss: 0.2310 - accuracy: 0.9139 - val_loss: 0.2767 - val_accuracy: 0.8881\n",
      "Epoch 32/100\n",
      "3579/3579 - 0s - loss: 0.2289 - accuracy: 0.9134 - val_loss: 0.2734 - val_accuracy: 0.8904\n",
      "Epoch 33/100\n",
      "3579/3579 - 0s - loss: 0.2292 - accuracy: 0.9139 - val_loss: 0.2712 - val_accuracy: 0.8949\n",
      "Epoch 34/100\n",
      "3579/3579 - 0s - loss: 0.2280 - accuracy: 0.9142 - val_loss: 0.2634 - val_accuracy: 0.9016\n",
      "Epoch 35/100\n",
      "3579/3579 - 0s - loss: 0.2342 - accuracy: 0.9131 - val_loss: 0.2962 - val_accuracy: 0.8837\n",
      "Epoch 36/100\n",
      "3579/3579 - 0s - loss: 0.2277 - accuracy: 0.9137 - val_loss: 0.2746 - val_accuracy: 0.9016\n",
      "Epoch 37/100\n",
      "3579/3579 - 0s - loss: 0.2267 - accuracy: 0.9134 - val_loss: 0.2761 - val_accuracy: 0.8926\n",
      "Epoch 38/100\n",
      "3579/3579 - 0s - loss: 0.2266 - accuracy: 0.9159 - val_loss: 0.2592 - val_accuracy: 0.8993\n",
      "Epoch 39/100\n",
      "3579/3579 - 0s - loss: 0.2256 - accuracy: 0.9167 - val_loss: 0.2715 - val_accuracy: 0.8926\n",
      "Epoch 40/100\n",
      "3579/3579 - 0s - loss: 0.2265 - accuracy: 0.9145 - val_loss: 0.2627 - val_accuracy: 0.9016\n",
      "Epoch 41/100\n",
      "3579/3579 - 0s - loss: 0.2254 - accuracy: 0.9156 - val_loss: 0.2666 - val_accuracy: 0.8993\n",
      "Epoch 42/100\n",
      "3579/3579 - 0s - loss: 0.2252 - accuracy: 0.9151 - val_loss: 0.2653 - val_accuracy: 0.8971\n",
      "Epoch 43/100\n",
      "3579/3579 - 0s - loss: 0.2251 - accuracy: 0.9167 - val_loss: 0.2585 - val_accuracy: 0.8993\n",
      "Epoch 44/100\n",
      "3579/3579 - 0s - loss: 0.2264 - accuracy: 0.9165 - val_loss: 0.2671 - val_accuracy: 0.8949\n",
      "Epoch 45/100\n",
      "3579/3579 - 0s - loss: 0.2225 - accuracy: 0.9153 - val_loss: 0.2688 - val_accuracy: 0.8926\n",
      "Epoch 46/100\n",
      "3579/3579 - 0s - loss: 0.2234 - accuracy: 0.9151 - val_loss: 0.2607 - val_accuracy: 0.9016\n",
      "Epoch 47/100\n",
      "3579/3579 - 0s - loss: 0.2225 - accuracy: 0.9162 - val_loss: 0.2704 - val_accuracy: 0.8949\n",
      "Epoch 48/100\n",
      "3579/3579 - 0s - loss: 0.2207 - accuracy: 0.9162 - val_loss: 0.2621 - val_accuracy: 0.8993\n",
      "Epoch 49/100\n",
      "3579/3579 - 0s - loss: 0.2203 - accuracy: 0.9167 - val_loss: 0.2578 - val_accuracy: 0.9038\n",
      "Epoch 50/100\n",
      "3579/3579 - 0s - loss: 0.2232 - accuracy: 0.9159 - val_loss: 0.2668 - val_accuracy: 0.9038\n",
      "Epoch 51/100\n",
      "3579/3579 - 0s - loss: 0.2241 - accuracy: 0.9159 - val_loss: 0.2675 - val_accuracy: 0.8993\n",
      "Epoch 52/100\n",
      "3579/3579 - 0s - loss: 0.2218 - accuracy: 0.9165 - val_loss: 0.2772 - val_accuracy: 0.8971\n",
      "Epoch 53/100\n",
      "3579/3579 - 0s - loss: 0.2178 - accuracy: 0.9184 - val_loss: 0.2671 - val_accuracy: 0.8949\n",
      "Epoch 54/100\n",
      "3579/3579 - 0s - loss: 0.2190 - accuracy: 0.9181 - val_loss: 0.2670 - val_accuracy: 0.9038\n",
      "Epoch 55/100\n",
      "3579/3579 - 0s - loss: 0.2195 - accuracy: 0.9159 - val_loss: 0.2596 - val_accuracy: 0.9016\n",
      "Epoch 56/100\n",
      "3579/3579 - 0s - loss: 0.2190 - accuracy: 0.9187 - val_loss: 0.2893 - val_accuracy: 0.8971\n",
      "Epoch 57/100\n",
      "3579/3579 - 0s - loss: 0.2185 - accuracy: 0.9181 - val_loss: 0.2782 - val_accuracy: 0.8971\n",
      "Epoch 58/100\n",
      "3579/3579 - 0s - loss: 0.2190 - accuracy: 0.9176 - val_loss: 0.2623 - val_accuracy: 0.8971\n",
      "Epoch 59/100\n",
      "3579/3579 - 0s - loss: 0.2184 - accuracy: 0.9173 - val_loss: 0.2879 - val_accuracy: 0.8971\n",
      "Epoch 60/100\n",
      "3579/3579 - 0s - loss: 0.2174 - accuracy: 0.9187 - val_loss: 0.2600 - val_accuracy: 0.9038\n",
      "Epoch 61/100\n",
      "3579/3579 - 0s - loss: 0.2166 - accuracy: 0.9170 - val_loss: 0.2607 - val_accuracy: 0.9060\n",
      "Epoch 62/100\n",
      "3579/3579 - 0s - loss: 0.2164 - accuracy: 0.9170 - val_loss: 0.2668 - val_accuracy: 0.8971\n",
      "Epoch 63/100\n",
      "3579/3579 - 0s - loss: 0.2169 - accuracy: 0.9170 - val_loss: 0.2681 - val_accuracy: 0.8993\n",
      "Epoch 64/100\n",
      "3579/3579 - 0s - loss: 0.2145 - accuracy: 0.9170 - val_loss: 0.2596 - val_accuracy: 0.9038\n",
      "Epoch 65/100\n",
      "3579/3579 - 0s - loss: 0.2142 - accuracy: 0.9176 - val_loss: 0.2643 - val_accuracy: 0.9060\n",
      "Epoch 66/100\n",
      "3579/3579 - 0s - loss: 0.2152 - accuracy: 0.9179 - val_loss: 0.2627 - val_accuracy: 0.9016\n",
      "Epoch 67/100\n",
      "3579/3579 - 0s - loss: 0.2154 - accuracy: 0.9190 - val_loss: 0.2597 - val_accuracy: 0.8993\n",
      "Epoch 68/100\n",
      "3579/3579 - 0s - loss: 0.2172 - accuracy: 0.9170 - val_loss: 0.2482 - val_accuracy: 0.9038\n",
      "Epoch 69/100\n",
      "3579/3579 - 0s - loss: 0.2166 - accuracy: 0.9156 - val_loss: 0.2608 - val_accuracy: 0.9038\n",
      "Epoch 70/100\n",
      "3579/3579 - 0s - loss: 0.2124 - accuracy: 0.9184 - val_loss: 0.2677 - val_accuracy: 0.9016\n",
      "Epoch 71/100\n",
      "3579/3579 - 0s - loss: 0.2119 - accuracy: 0.9190 - val_loss: 0.2554 - val_accuracy: 0.9060\n",
      "Epoch 72/100\n",
      "3579/3579 - 0s - loss: 0.2121 - accuracy: 0.9187 - val_loss: 0.2699 - val_accuracy: 0.9038\n",
      "Epoch 73/100\n",
      "3579/3579 - 0s - loss: 0.2115 - accuracy: 0.9184 - val_loss: 0.2780 - val_accuracy: 0.9016\n",
      "Epoch 74/100\n",
      "3579/3579 - 0s - loss: 0.2146 - accuracy: 0.9184 - val_loss: 0.2544 - val_accuracy: 0.9060\n",
      "Epoch 75/100\n",
      "3579/3579 - 0s - loss: 0.2135 - accuracy: 0.9201 - val_loss: 0.2637 - val_accuracy: 0.9016\n",
      "Epoch 76/100\n",
      "3579/3579 - 0s - loss: 0.2113 - accuracy: 0.9176 - val_loss: 0.2685 - val_accuracy: 0.9038\n",
      "Epoch 77/100\n",
      "3579/3579 - 0s - loss: 0.2118 - accuracy: 0.9198 - val_loss: 0.2544 - val_accuracy: 0.9060\n",
      "Epoch 78/100\n",
      "3579/3579 - 0s - loss: 0.2092 - accuracy: 0.9184 - val_loss: 0.2559 - val_accuracy: 0.9105\n",
      "Epoch 79/100\n",
      "3579/3579 - 0s - loss: 0.2133 - accuracy: 0.9201 - val_loss: 0.2601 - val_accuracy: 0.9083\n"
     ]
    },
    {
     "name": "stdout",
     "output_type": "stream",
     "text": [
      "Epoch 80/100\n",
      "3579/3579 - 0s - loss: 0.2112 - accuracy: 0.9198 - val_loss: 0.2604 - val_accuracy: 0.9038\n",
      "Epoch 81/100\n",
      "3579/3579 - 0s - loss: 0.2108 - accuracy: 0.9195 - val_loss: 0.2515 - val_accuracy: 0.9083\n",
      "Epoch 82/100\n",
      "3579/3579 - 0s - loss: 0.2114 - accuracy: 0.9204 - val_loss: 0.2558 - val_accuracy: 0.8993\n",
      "Epoch 83/100\n",
      "3579/3579 - 0s - loss: 0.2120 - accuracy: 0.9209 - val_loss: 0.2592 - val_accuracy: 0.9038\n",
      "Epoch 84/100\n",
      "3579/3579 - 0s - loss: 0.2100 - accuracy: 0.9193 - val_loss: 0.2469 - val_accuracy: 0.9060\n",
      "Epoch 85/100\n",
      "3579/3579 - 0s - loss: 0.2114 - accuracy: 0.9193 - val_loss: 0.2600 - val_accuracy: 0.9083\n",
      "Epoch 86/100\n",
      "3579/3579 - 0s - loss: 0.2098 - accuracy: 0.9195 - val_loss: 0.2604 - val_accuracy: 0.9060\n",
      "Epoch 87/100\n",
      "3579/3579 - 0s - loss: 0.2117 - accuracy: 0.9193 - val_loss: 0.2773 - val_accuracy: 0.9016\n",
      "Epoch 88/100\n",
      "3579/3579 - 0s - loss: 0.2100 - accuracy: 0.9193 - val_loss: 0.2589 - val_accuracy: 0.8993\n",
      "Epoch 89/100\n",
      "3579/3579 - 0s - loss: 0.2099 - accuracy: 0.9201 - val_loss: 0.2670 - val_accuracy: 0.9016\n",
      "Epoch 90/100\n",
      "3579/3579 - 0s - loss: 0.2086 - accuracy: 0.9206 - val_loss: 0.2586 - val_accuracy: 0.8971\n",
      "Epoch 91/100\n",
      "3579/3579 - 0s - loss: 0.2080 - accuracy: 0.9209 - val_loss: 0.2736 - val_accuracy: 0.9038\n",
      "Epoch 92/100\n",
      "3579/3579 - 0s - loss: 0.2108 - accuracy: 0.9201 - val_loss: 0.2652 - val_accuracy: 0.9016\n",
      "Epoch 93/100\n",
      "3579/3579 - 0s - loss: 0.2079 - accuracy: 0.9206 - val_loss: 0.2498 - val_accuracy: 0.9060\n",
      "Epoch 94/100\n",
      "3579/3579 - 0s - loss: 0.2075 - accuracy: 0.9181 - val_loss: 0.2709 - val_accuracy: 0.9060\n",
      "Epoch 95/100\n",
      "3579/3579 - 0s - loss: 0.2112 - accuracy: 0.9176 - val_loss: 0.2647 - val_accuracy: 0.9083\n",
      "Epoch 96/100\n",
      "3579/3579 - 0s - loss: 0.2077 - accuracy: 0.9218 - val_loss: 0.2457 - val_accuracy: 0.9083\n",
      "Epoch 97/100\n",
      "3579/3579 - 0s - loss: 0.2067 - accuracy: 0.9209 - val_loss: 0.2585 - val_accuracy: 0.9083\n",
      "Epoch 98/100\n",
      "3579/3579 - 0s - loss: 0.2095 - accuracy: 0.9201 - val_loss: 0.2488 - val_accuracy: 0.9083\n",
      "Epoch 99/100\n",
      "3579/3579 - 0s - loss: 0.2106 - accuracy: 0.9201 - val_loss: 0.2491 - val_accuracy: 0.9128\n",
      "Epoch 100/100\n",
      "3579/3579 - 0s - loss: 0.2070 - accuracy: 0.9204 - val_loss: 0.2700 - val_accuracy: 0.8993\n"
     ]
    },
    {
     "data": {
      "text/plain": [
       "<tensorflow.python.keras.callbacks.History at 0x26450178748>"
      ]
     },
     "execution_count": 14,
     "metadata": {},
     "output_type": "execute_result"
    }
   ],
   "source": [
    "input_size=10\n",
    "output_size=2\n",
    "hidden_layer_size=50\n",
    "\n",
    "model=tf.keras.Sequential([\n",
    "                            tf.keras.layers.Dense(hidden_layer_size,activation='relu'),\n",
    "                            tf.keras.layers.Dense(hidden_layer_size,activation='relu'),\n",
    "                            tf.keras.layers.Dense(hidden_layer_size,activation='softmax')\n",
    "                          ])\n",
    "\n",
    "model.compile(optimizer='adam',loss='sparse_categorical_crossentropy',metrics=['accuracy'])\n",
    "\n",
    "batch_size=100\n",
    "max_epoch=100\n",
    "model.fit(train_inputs,train_target,batch_size=batch_size,epochs=max_epoch,\n",
    "          validation_data=(validation_inputs,validation_target),verbose=2)"
   ]
  },
  {
   "cell_type": "markdown",
   "metadata": {},
   "source": [
    "its seems like data is overfitted"
   ]
  },
  {
   "cell_type": "markdown",
   "metadata": {},
   "source": [
    "# early_stopping_mechanism by using callback"
   ]
  },
  {
   "cell_type": "code",
   "execution_count": 19,
   "metadata": {},
   "outputs": [
    {
     "name": "stdout",
     "output_type": "stream",
     "text": [
      "Train on 3579 samples, validate on 447 samples\n",
      "Epoch 1/100\n",
      "3579/3579 - 1s - loss: 3.1557 - accuracy: 0.4876 - val_loss: 2.2040 - val_accuracy: 0.6555\n",
      "Epoch 2/100\n",
      "3579/3579 - 0s - loss: 1.1868 - accuracy: 0.7156 - val_loss: 0.5602 - val_accuracy: 0.8434\n",
      "Epoch 3/100\n",
      "3579/3579 - 0s - loss: 0.4247 - accuracy: 0.8690 - val_loss: 0.3951 - val_accuracy: 0.8568\n",
      "Epoch 4/100\n",
      "3579/3579 - 0s - loss: 0.3442 - accuracy: 0.8813 - val_loss: 0.3585 - val_accuracy: 0.8658\n",
      "Epoch 5/100\n",
      "3579/3579 - 0s - loss: 0.3206 - accuracy: 0.8863 - val_loss: 0.3442 - val_accuracy: 0.8680\n",
      "Epoch 6/100\n",
      "3579/3579 - 0s - loss: 0.3076 - accuracy: 0.8899 - val_loss: 0.3341 - val_accuracy: 0.8702\n",
      "Epoch 7/100\n",
      "3579/3579 - 0s - loss: 0.2972 - accuracy: 0.8905 - val_loss: 0.3218 - val_accuracy: 0.8792\n",
      "Epoch 8/100\n",
      "3579/3579 - 0s - loss: 0.2882 - accuracy: 0.8941 - val_loss: 0.3230 - val_accuracy: 0.8814\n",
      "Epoch 9/100\n",
      "3579/3579 - 0s - loss: 0.2815 - accuracy: 0.8966 - val_loss: 0.3119 - val_accuracy: 0.8837\n",
      "Epoch 10/100\n",
      "3579/3579 - 0s - loss: 0.2768 - accuracy: 0.8966 - val_loss: 0.3157 - val_accuracy: 0.8814\n",
      "Epoch 11/100\n",
      "3579/3579 - 0s - loss: 0.2703 - accuracy: 0.9005 - val_loss: 0.2922 - val_accuracy: 0.8859\n",
      "Epoch 12/100\n",
      "3579/3579 - 0s - loss: 0.2660 - accuracy: 0.9008 - val_loss: 0.3039 - val_accuracy: 0.8859\n",
      "Epoch 13/100\n",
      "3579/3579 - 0s - loss: 0.2631 - accuracy: 0.9019 - val_loss: 0.2934 - val_accuracy: 0.8881\n"
     ]
    },
    {
     "data": {
      "text/plain": [
       "<tensorflow.python.keras.callbacks.History at 0x2645309e0b8>"
      ]
     },
     "execution_count": 19,
     "metadata": {},
     "output_type": "execute_result"
    }
   ],
   "source": [
    "input_size=10\n",
    "output_size=2\n",
    "hidden_layer_size=50\n",
    "\n",
    "model=tf.keras.Sequential([\n",
    "                            tf.keras.layers.Dense(hidden_layer_size,activation='relu'),\n",
    "                            tf.keras.layers.Dense(hidden_layer_size,activation='relu'),\n",
    "                            tf.keras.layers.Dense(hidden_layer_size,activation='softmax')\n",
    "                          ])\n",
    "\n",
    "model.compile(optimizer='adam',loss='sparse_categorical_crossentropy',metrics=['accuracy'])\n",
    "\n",
    "batch_size=100\n",
    "max_epoch=100\n",
    "\n",
    "early_stopping=tf.keras.callbacks.EarlyStopping(patience=2)\n",
    "model.fit(train_inputs,train_target,batch_size=batch_size,epochs=max_epoch,callbacks=[early_stopping],\n",
    "          validation_data=(validation_inputs,validation_target),verbose=2)"
   ]
  },
  {
   "cell_type": "code",
   "execution_count": 21,
   "metadata": {},
   "outputs": [
    {
     "name": "stdout",
     "output_type": "stream",
     "text": [
      "448/448 [==============================] - 0s 448us/sample - loss: 0.2731 - accuracy: 0.9018\n"
     ]
    }
   ],
   "source": [
    "test_loss,test_accuracy=model.evaluate(test_inputs,test_target) "
   ]
  },
  {
   "cell_type": "code",
   "execution_count": null,
   "metadata": {},
   "outputs": [],
   "source": []
  }
 ],
 "metadata": {
  "kernelspec": {
   "display_name": "Python (py3-TF2.0)",
   "language": "python",
   "name": "py3-tf2.0"
  },
  "language_info": {
   "codemirror_mode": {
    "name": "ipython",
    "version": 3
   },
   "file_extension": ".py",
   "mimetype": "text/x-python",
   "name": "python",
   "nbconvert_exporter": "python",
   "pygments_lexer": "ipython3",
   "version": "3.6.10"
  }
 },
 "nbformat": 4,
 "nbformat_minor": 4
}
