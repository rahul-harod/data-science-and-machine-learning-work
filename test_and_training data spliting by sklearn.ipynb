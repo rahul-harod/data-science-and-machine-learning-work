{
 "cells": [
  {
   "cell_type": "code",
   "execution_count": 1,
   "metadata": {},
   "outputs": [],
   "source": [
    "import numpy as np\n",
    "from sklearn.model_selection import train_test_split"
   ]
  },
  {
   "cell_type": "code",
   "execution_count": 7,
   "metadata": {},
   "outputs": [],
   "source": [
    "a=np.arange(1,101)\n",
    "b=np.arange(501,601)"
   ]
  },
  {
   "cell_type": "code",
   "execution_count": 8,
   "metadata": {},
   "outputs": [
    {
     "data": {
      "text/plain": [
       "array([  1,   2,   3,   4,   5,   6,   7,   8,   9,  10,  11,  12,  13,\n",
       "        14,  15,  16,  17,  18,  19,  20,  21,  22,  23,  24,  25,  26,\n",
       "        27,  28,  29,  30,  31,  32,  33,  34,  35,  36,  37,  38,  39,\n",
       "        40,  41,  42,  43,  44,  45,  46,  47,  48,  49,  50,  51,  52,\n",
       "        53,  54,  55,  56,  57,  58,  59,  60,  61,  62,  63,  64,  65,\n",
       "        66,  67,  68,  69,  70,  71,  72,  73,  74,  75,  76,  77,  78,\n",
       "        79,  80,  81,  82,  83,  84,  85,  86,  87,  88,  89,  90,  91,\n",
       "        92,  93,  94,  95,  96,  97,  98,  99, 100])"
      ]
     },
     "execution_count": 8,
     "metadata": {},
     "output_type": "execute_result"
    }
   ],
   "source": [
    "a"
   ]
  },
  {
   "cell_type": "code",
   "execution_count": 14,
   "metadata": {},
   "outputs": [
    {
     "data": {
      "text/plain": [
       "[array([ 78,  21,  39,  11,  61,  65,  14,  52,   8,  86,  94,  53,  99,\n",
       "         30,  25,  33,  92,  10,  91,  48,  72,  41,  59,  29,  15,  70,\n",
       "         43,   5,  75,  32,  37,   3,  60,  20,  23,  83,  40,  42,  96,\n",
       "         84,  28,  97,  80,  76,  12,  34,  63,  35,  66,  17,  87,   9,\n",
       "         68,  57,  45,  26,  74,  27,  18,  89,  38,  71,   1,   6,  51,\n",
       "         90, 100,  31,  47,  62,  22,   7,  95,  56,  49]),\n",
       " array([55, 54, 13, 50, 93, 82,  2, 19, 24,  4, 16, 46, 98, 77, 88, 36, 73,\n",
       "        44, 67, 58, 69, 81, 85, 79, 64])]"
      ]
     },
     "execution_count": 14,
     "metadata": {},
     "output_type": "execute_result"
    }
   ],
   "source": [
    "train_test_split(a)                           # by default 75,25    and suffuled array"
   ]
  },
  {
   "cell_type": "code",
   "execution_count": 19,
   "metadata": {},
   "outputs": [],
   "source": [
    "a_train,a_test,b_train,b_test=train_test_split(a,b,test_size=0.2)   # it suffules the data in every run so for consistant result\n",
    "#  we have to give random_state=42"
   ]
  },
  {
   "cell_type": "code",
   "execution_count": 20,
   "metadata": {},
   "outputs": [
    {
     "data": {
      "text/plain": [
       "((80,), (20,))"
      ]
     },
     "execution_count": 20,
     "metadata": {},
     "output_type": "execute_result"
    }
   ],
   "source": [
    "a_train.shape , a_test.shape"
   ]
  },
  {
   "cell_type": "code",
   "execution_count": 21,
   "metadata": {},
   "outputs": [
    {
     "data": {
      "text/plain": [
       "(array([ 38,  93,  82,  67,  25,  16,  84,   5,  70,  36,  37,  59,  14,\n",
       "         68,  45,   6,  50,  61,   7,  57,  71,   2,  48,  92,  13,  91,\n",
       "         35,  27,  66,  79,  56,  52,  85,  20,  44,  74,  72,  46,  39,\n",
       "         23,   4,  75,  17,  60,  98,  62,   1,  30,  77,  86,  69,  64,\n",
       "         28,  26,  22,  63,  41,  53,  99,  29,  87,   8,  40,  15,  95,\n",
       "         65,  51,  81,  11,  31,  54,  76,  18,  33,  89,  58,  21,  10,\n",
       "        100,  55]),\n",
       " array([97, 32, 34,  9, 42, 43, 47, 73, 24, 78, 90, 96, 19, 88, 83, 80, 49,\n",
       "        12, 94,  3]))"
      ]
     },
     "execution_count": 21,
     "metadata": {},
     "output_type": "execute_result"
    }
   ],
   "source": [
    "a_train,a_test"
   ]
  },
  {
   "cell_type": "code",
   "execution_count": 24,
   "metadata": {},
   "outputs": [
    {
     "data": {
      "text/plain": [
       "(array([ 56,  89,  27,  43,  70,  16,  41,  97,  10,  73,  12,  48,  86,\n",
       "         29,  94,   6,  67,  66,  36,  17,  50,  35,   8,  96,  28,  20,\n",
       "         82,  26,  63,  14,  25,   4,  18,  39,   9,  79,   7,  65,  37,\n",
       "         90,  57, 100,  55,  44,  51,  68,  47,  69,  62,  98,  80,  42,\n",
       "         59,  49,  99,  58,  76,  33,  95,  60,  64,  85,  38,  30,   2,\n",
       "         53,  22,   3,  24,  88,  92,  75,  87,  83,  21,  61,  72,  15,\n",
       "         93,  52]),\n",
       " array([84, 54, 71, 46, 45, 40, 23, 81, 11,  1, 19, 31, 74, 34, 91,  5, 77,\n",
       "        78, 13, 32]))"
      ]
     },
     "execution_count": 24,
     "metadata": {},
     "output_type": "execute_result"
    }
   ],
   "source": [
    "a_train,a_test,b_train,b_test=train_test_split(a,b,test_size=0.2,random_state=42) \n",
    "a_train,a_test"
   ]
  },
  {
   "cell_type": "code",
   "execution_count": 25,
   "metadata": {},
   "outputs": [
    {
     "data": {
      "text/plain": [
       "(array([556, 589, 527, 543, 570, 516, 541, 597, 510, 573, 512, 548, 586,\n",
       "        529, 594, 506, 567, 566, 536, 517, 550, 535, 508, 596, 528, 520,\n",
       "        582, 526, 563, 514, 525, 504, 518, 539, 509, 579, 507, 565, 537,\n",
       "        590, 557, 600, 555, 544, 551, 568, 547, 569, 562, 598, 580, 542,\n",
       "        559, 549, 599, 558, 576, 533, 595, 560, 564, 585, 538, 530, 502,\n",
       "        553, 522, 503, 524, 588, 592, 575, 587, 583, 521, 561, 572, 515,\n",
       "        593, 552]),\n",
       " array([584, 554, 571, 546, 545, 540, 523, 581, 511, 501, 519, 531, 574,\n",
       "        534, 591, 505, 577, 578, 513, 532]))"
      ]
     },
     "execution_count": 25,
     "metadata": {},
     "output_type": "execute_result"
    }
   ],
   "source": [
    "b_train,b_test"
   ]
  },
  {
   "cell_type": "code",
   "execution_count": null,
   "metadata": {},
   "outputs": [],
   "source": []
  }
 ],
 "metadata": {
  "kernelspec": {
   "display_name": "Python 3",
   "language": "python",
   "name": "python3"
  },
  "language_info": {
   "codemirror_mode": {
    "name": "ipython",
    "version": 3
   },
   "file_extension": ".py",
   "mimetype": "text/x-python",
   "name": "python",
   "nbconvert_exporter": "python",
   "pygments_lexer": "ipython3",
   "version": "3.7.7"
  }
 },
 "nbformat": 4,
 "nbformat_minor": 4
}
