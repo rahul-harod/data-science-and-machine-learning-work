{
 "cells": [
  {
   "cell_type": "code",
   "execution_count": 31,
   "metadata": {},
   "outputs": [],
   "source": [
    "import numpy as np\n",
    "import matplotlib.pyplot as plt\n",
    "import pandas as pd\n",
    "import seaborn as sns\n",
    "import math\n",
    "from statistics import mean\n",
    "from statistics import mode\n",
    "from matplotlib import style\n",
    "\n",
    "style.use('fivethirtyeight')\n"
   ]
  },
  {
   "cell_type": "code",
   "execution_count": 45,
   "metadata": {},
   "outputs": [],
   "source": [
    "dataset= {'k':[[1,2],[2,3],[3,1]],'r':[[6,5],[7,7],[8,6]]}\n",
    "new_feature=[5,7]\n"
   ]
  },
  {
   "cell_type": "code",
   "execution_count": 57,
   "metadata": {},
   "outputs": [],
   "source": [
    "def most_common(list):\n",
    "    return max(set(list),key=list.count)"
   ]
  },
  {
   "cell_type": "code",
   "execution_count": 58,
   "metadata": {},
   "outputs": [],
   "source": [
    "def KNN(data,predict,k=3):\n",
    "    distance=[]\n",
    "    for group in data:\n",
    "        for features in data[group]:\n",
    "            euclidian_dist=np.sqrt(np.sum((np.array(features)-np.array(predict))**2))\n",
    "            distance.append([euclidian_dist,group])\n",
    "            d=np.array(distance)\n",
    "    \n",
    "    votes =[i[1] for i in sorted(distance)[:k]]\n",
    "    print(most_common(votes))\n",
    "    \n",
    "    return votes\n",
    "    \n",
    "    \n",
    "          \n",
    "          \n",
    "\n"
   ]
  },
  {
   "cell_type": "code",
   "execution_count": 59,
   "metadata": {},
   "outputs": [
    {
     "name": "stdout",
     "output_type": "stream",
     "text": [
      "r\n",
      "['r', 'r', 'r']\n"
     ]
    }
   ],
   "source": [
    "result=KNN(dataset,new_feature,3)\n",
    "print(result)"
   ]
  },
  {
   "cell_type": "code",
   "execution_count": 56,
   "metadata": {},
   "outputs": [
    {
     "data": {
      "image/png": "[encoded data removed]",
      "text/plain": [
       "<Figure size 432x288 with 1 Axes>"
      ]
     },
     "metadata": {},
     "output_type": "display_data"
    }
   ],
   "source": [
    "[[plt.scatter(ii[0],ii[1],s=100,color=i) for ii in dataset[i]]for i in dataset]\n",
    "plt.scatter(new_feature[0],new_feature[1])\n",
    "plt.show()"
   ]
  },
  {
   "cell_type": "code",
   "execution_count": null,
   "metadata": {},
   "outputs": [],
   "source": []
  }
 ],
 "metadata": {
  "kernelspec": {
   "display_name": "Python 3",
   "language": "python",
   "name": "python3"
  },
  "language_info": {
   "codemirror_mode": {
    "name": "ipython",
    "version": 3
   },
   "file_extension": ".py",
   "mimetype": "text/x-python",
   "name": "python",
   "nbconvert_exporter": "python",
   "pygments_lexer": "ipython3",
   "version": "3.7.7"
  }
 },
 "nbformat": 4,
 "nbformat_minor": 2
}
